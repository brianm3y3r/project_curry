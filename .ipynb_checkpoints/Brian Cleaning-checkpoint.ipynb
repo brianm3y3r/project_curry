{
 "cells": [
  {
   "cell_type": "code",
   "execution_count": 1,
   "metadata": {},
   "outputs": [],
   "source": [
    "import pandas as pd\n",
    "import numpy as np\n",
    "import matplotlib.pyplot as plt"
   ]
  },
  {
   "cell_type": "code",
   "execution_count": 3,
   "metadata": {},
   "outputs": [
    {
     "data": {
      "text/html": [
       "<div>\n",
       "<style scoped>\n",
       "    .dataframe tbody tr th:only-of-type {\n",
       "        vertical-align: middle;\n",
       "    }\n",
       "\n",
       "    .dataframe tbody tr th {\n",
       "        vertical-align: top;\n",
       "    }\n",
       "\n",
       "    .dataframe thead th {\n",
       "        text-align: right;\n",
       "    }\n",
       "</style>\n",
       "<table border=\"1\" class=\"dataframe\">\n",
       "  <thead>\n",
       "    <tr style=\"text-align: right;\">\n",
       "      <th></th>\n",
       "      <th>identifierHash</th>\n",
       "      <th>type</th>\n",
       "      <th>country</th>\n",
       "      <th>language</th>\n",
       "      <th>socialNbFollowers</th>\n",
       "      <th>socialNbFollows</th>\n",
       "      <th>socialProductsLiked</th>\n",
       "      <th>productsListed</th>\n",
       "      <th>productsSold</th>\n",
       "      <th>productsPassRate</th>\n",
       "      <th>...</th>\n",
       "      <th>civilityTitle</th>\n",
       "      <th>hasAnyApp</th>\n",
       "      <th>hasAndroidApp</th>\n",
       "      <th>hasIosApp</th>\n",
       "      <th>hasProfilePicture</th>\n",
       "      <th>daysSinceLastLogin</th>\n",
       "      <th>seniority</th>\n",
       "      <th>seniorityAsMonths</th>\n",
       "      <th>seniorityAsYears</th>\n",
       "      <th>countryCode</th>\n",
       "    </tr>\n",
       "  </thead>\n",
       "  <tbody>\n",
       "    <tr>\n",
       "      <th>0</th>\n",
       "      <td>-7279641312655250028</td>\n",
       "      <td>user</td>\n",
       "      <td>Etats-Unis</td>\n",
       "      <td>en</td>\n",
       "      <td>3</td>\n",
       "      <td>8</td>\n",
       "      <td>0</td>\n",
       "      <td>0</td>\n",
       "      <td>0</td>\n",
       "      <td>0.0</td>\n",
       "      <td>...</td>\n",
       "      <td>mrs</td>\n",
       "      <td>False</td>\n",
       "      <td>False</td>\n",
       "      <td>False</td>\n",
       "      <td>True</td>\n",
       "      <td>709</td>\n",
       "      <td>3205</td>\n",
       "      <td>106.83</td>\n",
       "      <td>8.9</td>\n",
       "      <td>us</td>\n",
       "    </tr>\n",
       "    <tr>\n",
       "      <th>1</th>\n",
       "      <td>-1456013578740053406</td>\n",
       "      <td>user</td>\n",
       "      <td>Allemagne</td>\n",
       "      <td>de</td>\n",
       "      <td>3</td>\n",
       "      <td>8</td>\n",
       "      <td>0</td>\n",
       "      <td>0</td>\n",
       "      <td>0</td>\n",
       "      <td>0.0</td>\n",
       "      <td>...</td>\n",
       "      <td>mrs</td>\n",
       "      <td>False</td>\n",
       "      <td>False</td>\n",
       "      <td>False</td>\n",
       "      <td>True</td>\n",
       "      <td>709</td>\n",
       "      <td>3205</td>\n",
       "      <td>106.83</td>\n",
       "      <td>8.9</td>\n",
       "      <td>de</td>\n",
       "    </tr>\n",
       "    <tr>\n",
       "      <th>2</th>\n",
       "      <td>9006282053848196165</td>\n",
       "      <td>user</td>\n",
       "      <td>Suède</td>\n",
       "      <td>en</td>\n",
       "      <td>3</td>\n",
       "      <td>8</td>\n",
       "      <td>0</td>\n",
       "      <td>0</td>\n",
       "      <td>0</td>\n",
       "      <td>0.0</td>\n",
       "      <td>...</td>\n",
       "      <td>mr</td>\n",
       "      <td>True</td>\n",
       "      <td>False</td>\n",
       "      <td>True</td>\n",
       "      <td>True</td>\n",
       "      <td>689</td>\n",
       "      <td>3205</td>\n",
       "      <td>106.83</td>\n",
       "      <td>8.9</td>\n",
       "      <td>se</td>\n",
       "    </tr>\n",
       "  </tbody>\n",
       "</table>\n",
       "<p>3 rows × 24 columns</p>\n",
       "</div>"
      ],
      "text/plain": [
       "        identifierHash  type     country language  socialNbFollowers  \\\n",
       "0 -7279641312655250028  user  Etats-Unis       en                  3   \n",
       "1 -1456013578740053406  user   Allemagne       de                  3   \n",
       "2  9006282053848196165  user       Suède       en                  3   \n",
       "\n",
       "   socialNbFollows  socialProductsLiked  productsListed  productsSold  \\\n",
       "0                8                    0               0             0   \n",
       "1                8                    0               0             0   \n",
       "2                8                    0               0             0   \n",
       "\n",
       "   productsPassRate  ...  civilityTitle  hasAnyApp hasAndroidApp  hasIosApp  \\\n",
       "0               0.0  ...            mrs      False         False      False   \n",
       "1               0.0  ...            mrs      False         False      False   \n",
       "2               0.0  ...             mr       True         False       True   \n",
       "\n",
       "  hasProfilePicture  daysSinceLastLogin  seniority  seniorityAsMonths  \\\n",
       "0              True                 709       3205             106.83   \n",
       "1              True                 709       3205             106.83   \n",
       "2              True                 689       3205             106.83   \n",
       "\n",
       "   seniorityAsYears  countryCode  \n",
       "0               8.9           us  \n",
       "1               8.9           de  \n",
       "2               8.9           se  \n",
       "\n",
       "[3 rows x 24 columns]"
      ]
     },
     "execution_count": 3,
     "metadata": {},
     "output_type": "execute_result"
    }
   ],
   "source": [
    "# Importing the Dataset\n",
    "df = pd.read_csv(\"dataset.csv\")\n",
    "df.head(3)\n"
   ]
  },
  {
   "cell_type": "code",
   "execution_count": 4,
   "metadata": {},
   "outputs": [
    {
     "data": {
      "text/plain": [
       "identifierHash           int64\n",
       "type                    object\n",
       "country                 object\n",
       "language                object\n",
       "socialNbFollowers        int64\n",
       "socialNbFollows          int64\n",
       "socialProductsLiked      int64\n",
       "productsListed           int64\n",
       "productsSold             int64\n",
       "productsPassRate       float64\n",
       "productsWished           int64\n",
       "productsBought           int64\n",
       "gender                  object\n",
       "civilityGenderId         int64\n",
       "civilityTitle           object\n",
       "hasAnyApp                 bool\n",
       "hasAndroidApp             bool\n",
       "hasIosApp                 bool\n",
       "hasProfilePicture         bool\n",
       "daysSinceLastLogin       int64\n",
       "seniority                int64\n",
       "seniorityAsMonths      float64\n",
       "seniorityAsYears       float64\n",
       "countryCode             object\n",
       "dtype: object"
      ]
     },
     "execution_count": 4,
     "metadata": {},
     "output_type": "execute_result"
    }
   ],
   "source": [
    "df.dtypes"
   ]
  },
  {
   "cell_type": "code",
   "execution_count": 12,
   "metadata": {},
   "outputs": [],
   "source": [
    "# Create DF with required cols\n",
    "df_1 = df[[\"hasProfilePicture\",\"country\",\"language\",\"gender\",\"hasAndroidApp\",\"hasIosApp\",\"daysSinceLastLogin\",\"productsListed\",\"productsSold\",\"productsPassRate\",\"productsWished\",\"productsBought\",\"socialProductsLiked\",\"socialNbFollowers\",\"socialNbFollows\" ]]"
   ]
  },
  {
   "cell_type": "code",
   "execution_count": 16,
   "metadata": {},
   "outputs": [
    {
     "data": {
      "text/plain": [
       "True     97018\n",
       "False     1895\n",
       "Name: hasProfilePicture, dtype: int64"
      ]
     },
     "execution_count": 16,
     "metadata": {},
     "output_type": "execute_result"
    }
   ],
   "source": [
    "# Check Profile Pic value counts\n",
    "(df_1[\"hasProfilePicture\"]).value_counts()"
   ]
  },
  {
   "cell_type": "code",
   "execution_count": 18,
   "metadata": {},
   "outputs": [
    {
     "data": {
      "text/html": [
       "<div>\n",
       "<style scoped>\n",
       "    .dataframe tbody tr th:only-of-type {\n",
       "        vertical-align: middle;\n",
       "    }\n",
       "\n",
       "    .dataframe tbody tr th {\n",
       "        vertical-align: top;\n",
       "    }\n",
       "\n",
       "    .dataframe thead th {\n",
       "        text-align: right;\n",
       "    }\n",
       "</style>\n",
       "<table border=\"1\" class=\"dataframe\">\n",
       "  <thead>\n",
       "    <tr style=\"text-align: right;\">\n",
       "      <th></th>\n",
       "      <th>country</th>\n",
       "      <th>language</th>\n",
       "      <th>gender</th>\n",
       "      <th>hasAndroidApp</th>\n",
       "      <th>hasIosApp</th>\n",
       "      <th>daysSinceLastLogin</th>\n",
       "      <th>productsListed</th>\n",
       "      <th>productsSold</th>\n",
       "      <th>productsPassRate</th>\n",
       "      <th>productsWished</th>\n",
       "      <th>productsBought</th>\n",
       "      <th>socialProductsLiked</th>\n",
       "      <th>socialNbFollowers</th>\n",
       "      <th>socialNbFollows</th>\n",
       "    </tr>\n",
       "  </thead>\n",
       "  <tbody>\n",
       "    <tr>\n",
       "      <th>0</th>\n",
       "      <td>Etats-Unis</td>\n",
       "      <td>en</td>\n",
       "      <td>F</td>\n",
       "      <td>False</td>\n",
       "      <td>False</td>\n",
       "      <td>709</td>\n",
       "      <td>0</td>\n",
       "      <td>0</td>\n",
       "      <td>0.0</td>\n",
       "      <td>0</td>\n",
       "      <td>0</td>\n",
       "      <td>0</td>\n",
       "      <td>3</td>\n",
       "      <td>8</td>\n",
       "    </tr>\n",
       "    <tr>\n",
       "      <th>1</th>\n",
       "      <td>Allemagne</td>\n",
       "      <td>de</td>\n",
       "      <td>F</td>\n",
       "      <td>False</td>\n",
       "      <td>False</td>\n",
       "      <td>709</td>\n",
       "      <td>0</td>\n",
       "      <td>0</td>\n",
       "      <td>0.0</td>\n",
       "      <td>0</td>\n",
       "      <td>0</td>\n",
       "      <td>0</td>\n",
       "      <td>3</td>\n",
       "      <td>8</td>\n",
       "    </tr>\n",
       "  </tbody>\n",
       "</table>\n",
       "</div>"
      ],
      "text/plain": [
       "      country language gender  hasAndroidApp  hasIosApp  daysSinceLastLogin  \\\n",
       "0  Etats-Unis       en      F          False      False                 709   \n",
       "1   Allemagne       de      F          False      False                 709   \n",
       "\n",
       "   productsListed  productsSold  productsPassRate  productsWished  \\\n",
       "0               0             0               0.0               0   \n",
       "1               0             0               0.0               0   \n",
       "\n",
       "   productsBought  socialProductsLiked  socialNbFollowers  socialNbFollows  \n",
       "0               0                    0                  3                8  \n",
       "1               0                    0                  3                8  "
      ]
     },
     "execution_count": 18,
     "metadata": {},
     "output_type": "execute_result"
    }
   ],
   "source": [
    "# Dropping profile pic, as its one sided\n",
    "df = df_1.drop(columns=\"hasProfilePicture\")\n",
    "df.head(2)"
   ]
  },
  {
   "cell_type": "code",
   "execution_count": 35,
   "metadata": {},
   "outputs": [],
   "source": [
    "# Create Active Users Filter, based on IF: product sold or bought, \n",
    "df_active = df.loc[(df[\"productsListed\"] !=0)|(df[\"productsSold\"] !=0)|(df[\"productsWished\"]!=0)|(df[\"productsBought\"]!=0)|(df[\"socialProductsLiked\"]!=0)|(df[\"socialNbFollows\"]>8)]\n"
   ]
  },
  {
   "cell_type": "code",
   "execution_count": 34,
   "metadata": {},
   "outputs": [
    {
     "data": {
      "text/plain": [
       "False    98774\n",
       "True       139\n",
       "Name: socialNbFollows, dtype: int64"
      ]
     },
     "execution_count": 34,
     "metadata": {},
     "output_type": "execute_result"
    }
   ],
   "source": [
    "# Checking for above, the threshold of Follows.\n",
    "(df[\"socialNbFollows\"]<8).value_counts()"
   ]
  },
  {
   "cell_type": "code",
   "execution_count": 42,
   "metadata": {},
   "outputs": [],
   "source": [
    "# Assigining new column based on APP Type as \"OS\"\n",
    "df = df.assign(OS=np.where((df[\"hasAndroidApp\"]&df[\"hasIosApp\"]==True),\"Both Apps\",(np.where((df[\"hasAndroidApp\"]==True),\"Android\",(np.where((df[\"hasIosApp\"]==True),\"iOS\",\"Browser\"))))))"
   ]
  },
  {
   "cell_type": "code",
   "execution_count": 44,
   "metadata": {},
   "outputs": [
    {
     "data": {
      "text/plain": [
       "Browser      72739\n",
       "iOS          21355\n",
       "Android       4647\n",
       "Both Apps      172\n",
       "Name: OS, dtype: int64"
      ]
     },
     "execution_count": 44,
     "metadata": {},
     "output_type": "execute_result"
    }
   ],
   "source": [
    "# Checking Values for OS Types\n",
    "df[\"OS\"].value_counts()"
   ]
  },
  {
   "cell_type": "code",
   "execution_count": 45,
   "metadata": {},
   "outputs": [],
   "source": [
    "# Rerun Active Users with new included OS\n",
    "df_active = df.loc[(df[\"productsListed\"] !=0)|(df[\"productsSold\"] !=0)|(df[\"productsWished\"]!=0)|(df[\"productsBought\"]!=0)|(df[\"socialProductsLiked\"]!=0)|(df[\"socialNbFollows\"]>8)]\n"
   ]
  },
  {
   "cell_type": "code",
   "execution_count": 46,
   "metadata": {},
   "outputs": [
    {
     "data": {
      "text/plain": [
       "Browser      12047\n",
       "iOS           8638\n",
       "Android       1469\n",
       "Both Apps      134\n",
       "Name: OS, dtype: int64"
      ]
     },
     "execution_count": 46,
     "metadata": {},
     "output_type": "execute_result"
    }
   ],
   "source": [
    "# Checking values for active OS Types\n",
    "df_active[\"OS\"].value_counts()"
   ]
  },
  {
   "cell_type": "code",
   "execution_count": 47,
   "metadata": {},
   "outputs": [],
   "source": [
    "# Creating CSV to check in Tableau for any differences compared to previous ALL Dataframe\n",
    "df_active.to_csv(\"active_users_brian.csv\")"
   ]
  },
  {
   "cell_type": "code",
   "execution_count": 48,
   "metadata": {},
   "outputs": [],
   "source": [
    "# Creating counter check DF with different Criteria\n",
    "df_active_julien = df.loc[((df['socialProductsLiked'] !=0) | (df['productsListed'] !=0)) | (df['productsBought'] !=0) | (df['productsSold'] !=0) | (df[\"productsWished\"] != 0)]"
   ]
  },
  {
   "cell_type": "code",
   "execution_count": 49,
   "metadata": {},
   "outputs": [],
   "source": [
    "df_active_julien.to_csv(\"active_users_julien.csv\")"
   ]
  }
 ],
 "metadata": {
  "kernelspec": {
   "display_name": "Python 3",
   "language": "python",
   "name": "python3"
  },
  "language_info": {
   "codemirror_mode": {
    "name": "ipython",
    "version": 3
   },
   "file_extension": ".py",
   "mimetype": "text/x-python",
   "name": "python",
   "nbconvert_exporter": "python",
   "pygments_lexer": "ipython3",
   "version": "3.7.6"
  }
 },
 "nbformat": 4,
 "nbformat_minor": 4
}
